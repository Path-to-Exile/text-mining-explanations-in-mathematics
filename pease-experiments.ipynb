{
 "cells": [
  {
   "cell_type": "markdown",
   "metadata": {},
   "source": [
    "## Pease methodology"
   ]
  },
  {
   "cell_type": "code",
   "execution_count": 1,
   "metadata": {},
   "outputs": [],
   "source": [
    "import pandas as pd\n",
    "import nltk\n",
    "import glob\n",
    "import os\n",
    "import time\n",
    "path = '/Users/Svesketerning/Google-Drev/experiments'\n",
    "timestr = time.strftime(\"%Y%m%d-%H%M\")"
   ]
  },
  {
   "cell_type": "code",
   "execution_count": 3,
   "metadata": {},
   "outputs": [],
   "source": [
    "# Definining word_extract function - will be copied for other experiments.\n",
    "def word_extract(dataframe_context,focus_words):\n",
    "    result = []\n",
    "    contexts = [x for x in dataframe_context.columns]\n",
    "    for index in range(len(dataframe_context.index)):\n",
    "        for c in contexts:\n",
    "            sentences = nltk.sent_tokenize(dataframe_context[c][index])\n",
    "            for sent in sentences:\n",
    "                sent = sent.lower()\n",
    "                overlap = [x for x in focus_words if x in sent]\n",
    "                if len(overlap)>0:\n",
    "                    arc_id = df_contexts['id'][index]\n",
    "                    result.append({'id':arc_id, # NOTE THAT YOU HAVE TO LOAD ARXIV DATABASE FILE AS df_arxiv!!\n",
    "                                   'mainmathcat': df_arxiv.loc[df_arxiv['id'] == arc_id]['mainmathcat'].item(),\n",
    "                                   'context': c, 'sentence': sent, 'focuswords': \",\".join(overlap)})\n",
    "    df = pd.concat([pd.DataFrame(result[i], index=['id']) for i in range(len(result))])\n",
    "    df = df.set_index('id')\n",
    "    return df "
   ]
  },
  {
   "cell_type": "code",
   "execution_count": 2,
   "metadata": {},
   "outputs": [],
   "source": [
    "# Load latest context and ArXiv database file\n",
    "LatestContextFile = max(glob.iglob('/Users/Svesketerning/Google-Drev/experiments/database-files/arxiv_contexts*'),key=os.path.getctime)\n",
    "df_contexts = pd.read_feather(LatestContextFile)\n",
    "\n",
    "LatestDatabaseFile = max(glob.iglob('/Users/Svesketerning/Google-Drev/experiments/database-files/arxiv_extended_database*'),key=os.path.getctime)\n",
    "df_arxiv = pd.read_feather(LatestDatabaseFile)"
   ]
  },
  {
   "cell_type": "code",
   "execution_count": 33,
   "metadata": {},
   "outputs": [],
   "source": [
    "# Taken form Pease et al. 2019, p.12\n",
    "pease_words = ['since','because',', as','thus','therefore',', so','expla','underst']\n",
    "pease_pct = [0.73,0.92,0.71,0.62,0.45,0.7,1,0.82]"
   ]
  },
  {
   "cell_type": "code",
   "execution_count": 31,
   "metadata": {},
   "outputs": [],
   "source": [
    "pease_df = word_extract(df_contexts,pease_words)\n",
    "pease_df = pease_df.reset_index()\n",
    "pease_df.to_feather(path+'/pease-data/pease_fullraw'+timestr+'.feather')"
   ]
  },
  {
   "cell_type": "code",
   "execution_count": 4,
   "metadata": {},
   "outputs": [],
   "source": [
    "# Load latest pease explain database\n",
    "LatestPeaseExplainFile = max(glob.iglob('/Users/Svesketerning/Google-Drev/experiments//pease-data/explain_peasecontext_freq*'),key=os.path.getctime)\n",
    "\n",
    "explain_peasecontext_freq = pd.read_feather(LatestPeaseExplainFile)\n"
   ]
  },
  {
   "cell_type": "markdown",
   "metadata": {},
   "source": [
    "#####  Loop counts explanations per million words over context and adds total."
   ]
  },
  {
   "cell_type": "code",
   "execution_count": 85,
   "metadata": {},
   "outputs": [],
   "source": [
    "contexts = ['outer','theorem', 'meta', 'proof', 'other']\n",
    "values_context = []\n",
    "total_expla = 0\n",
    "total_words = 0\n",
    "for j in contexts:\n",
    "    a = 0\n",
    "    result = []\n",
    "    for i in pease_words:\n",
    "        c = len(pease_df.loc[(pease_df['context'] == j) & (pease_df['focuswords'] == i)])\n",
    "        a += c*pease_pct[pease_words.index(i)]\n",
    "    b = df_arxiv[j].sum()\n",
    "    total_words += b\n",
    "    total_expla += a \n",
    "    values_context.append(a/b * 10**6)\n",
    "result.append({'outer': values_context[0],'theorem': values_context[1],\n",
    "               'meta': values_context[2], 'proof': values_context[3], \n",
    "               'other': values_context[4], 'total': (total_expla/total_words * 10**6)})\n",
    "explain_peasecontext_freq = pd.concat([pd.DataFrame(result[i], index=[0]) for i in range(len(result))])"
   ]
  },
  {
   "cell_type": "code",
   "execution_count": 7,
   "metadata": {},
   "outputs": [],
   "source": [
    "# Saves to Pease-data and tex folder\n",
    "explain_peasecontext_freq.to_feather(path+'/pease-data/explain_peasecontext_freq'+timestr+'.feather')\n",
    "explain_peasecontext_freq.round(2).to_latex(path+'/tex/explain_peasecontext_freq'+timestr+'.tex')"
   ]
  },
  {
   "cell_type": "code",
   "execution_count": 6,
   "metadata": {},
   "outputs": [
    {
     "data": {
      "text/html": [
       "<div>\n",
       "<style scoped>\n",
       "    .dataframe tbody tr th:only-of-type {\n",
       "        vertical-align: middle;\n",
       "    }\n",
       "\n",
       "    .dataframe tbody tr th {\n",
       "        vertical-align: top;\n",
       "    }\n",
       "\n",
       "    .dataframe thead th {\n",
       "        text-align: right;\n",
       "    }\n",
       "</style>\n",
       "<table border=\"1\" class=\"dataframe\">\n",
       "  <thead>\n",
       "    <tr style=\"text-align: right;\">\n",
       "      <th></th>\n",
       "      <th>outer</th>\n",
       "      <th>theorem</th>\n",
       "      <th>meta</th>\n",
       "      <th>proof</th>\n",
       "      <th>other</th>\n",
       "      <th>total</th>\n",
       "    </tr>\n",
       "  </thead>\n",
       "  <tbody>\n",
       "    <tr>\n",
       "      <th>0</th>\n",
       "      <td>2790.7</td>\n",
       "      <td>633.1</td>\n",
       "      <td>4060.17</td>\n",
       "      <td>7888.26</td>\n",
       "      <td>851.33</td>\n",
       "      <td>3738.36</td>\n",
       "    </tr>\n",
       "  </tbody>\n",
       "</table>\n",
       "</div>"
      ],
      "text/plain": [
       "    outer  theorem     meta    proof   other    total\n",
       "0  2790.7    633.1  4060.17  7888.26  851.33  3738.36"
      ]
     },
     "execution_count": 6,
     "metadata": {},
     "output_type": "execute_result"
    }
   ],
   "source": []
  },
  {
   "cell_type": "code",
   "execution_count": null,
   "metadata": {},
   "outputs": [],
   "source": []
  },
  {
   "cell_type": "code",
   "execution_count": null,
   "metadata": {},
   "outputs": [],
   "source": []
  }
 ],
 "metadata": {
  "kernelspec": {
   "display_name": "Python 3",
   "language": "python",
   "name": "python3"
  },
  "language_info": {
   "codemirror_mode": {
    "name": "ipython",
    "version": 3
   },
   "file_extension": ".py",
   "mimetype": "text/x-python",
   "name": "python",
   "nbconvert_exporter": "python",
   "pygments_lexer": "ipython3",
   "version": "3.6.8"
  }
 },
 "nbformat": 4,
 "nbformat_minor": 4
}
