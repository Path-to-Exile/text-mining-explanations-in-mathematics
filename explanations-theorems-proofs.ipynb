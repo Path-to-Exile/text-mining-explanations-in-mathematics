{
 "cells": [
  {
   "cell_type": "markdown",
   "metadata": {},
   "source": [
    "## Explanations in Uncommon(?) Places"
   ]
  },
  {
   "cell_type": "code",
   "execution_count": 1,
   "metadata": {},
   "outputs": [],
   "source": [
    "import pandas as pd\n",
    "import nltk\n",
    "import glob\n",
    "import os\n",
    "import time\n",
    "import numpy as np\n",
    "path = '/Users/Svesketerning/Google-Drev/experiments'\n",
    "timestr = time.strftime(\"%Y%m%d-%H%M\")"
   ]
  },
  {
   "cell_type": "code",
   "execution_count": 2,
   "metadata": {},
   "outputs": [],
   "source": [
    "# Input context dataframe. focuswords. which context, if any. \n",
    "# And if should remove sentences with focuswords, or keep those\n",
    "contexts=['outer','theorem', 'meta', 'proof', 'other'],\n",
    "def sentence_extract(df,focuswords, contexts = None, remove_focuswords = False):\n",
    "    if contexts is not None: # Focus on context\n",
    "        df = df[df['context'].isin(contexts)]\n",
    "    for i in df.index:\n",
    "        sent = df.loc[i,'sentence']\n",
    "        tokenize_sent = nltk.word_tokenize(sent)\n",
    "        if any(x in focuswords for x in tokenize_sent) is remove_focuswords:\n",
    "            df = df.drop(index=i)\n",
    "    return df "
   ]
  },
  {
   "cell_type": "code",
   "execution_count": 3,
   "metadata": {},
   "outputs": [],
   "source": [
    "LatestDatabaseFile = max(glob.iglob('/Users/Svesketerning/Google-Drev/experiments/database-files/arxiv_extended_database*'),key=os.path.getctime)\n",
    "df_arxiv = pd.read_feather(LatestDatabaseFile)\n",
    "\n",
    "LatestExplanationFile = max(glob.iglob('/Users/Svesketerning/Google-Drev/experiments/database-files/explain_fullraw*'),key=os.path.getctime)\n",
    "explanation_df = pd.read_feather(LatestExplanationFile)"
   ]
  },
  {
   "cell_type": "markdown",
   "metadata": {},
   "source": [
    "### Explanations in Theorem Contexts"
   ]
  },
  {
   "cell_type": "code",
   "execution_count": 9,
   "metadata": {},
   "outputs": [],
   "source": [
    "# Saves the very few explanation in theorems to be considered manually \n",
    "theoremexpla_df = explanation_df.loc[(explanation_df['context'] == 'theorem')]\n",
    "theoremexpla_df = theoremexpla_df.reset_index()\n",
    "theoremexpla_df.to_feather(path+'/proof-theorem-explanations/theorem_explanation'+timestr+'.feather')"
   ]
  },
  {
   "cell_type": "markdown",
   "metadata": {},
   "source": [
    "### Explanations in Proof Contexts"
   ]
  },
  {
   "cell_type": "code",
   "execution_count": 10,
   "metadata": {},
   "outputs": [],
   "source": [
    "pd.set_option('display.max_rows', 300)\n",
    "pd.set_option('display.max_columns', 10)\n",
    "pd.set_option('display.max_colwidth', None)\n",
    "\n",
    "test_df = sentence_extract(explanation_df,[], contexts = ['proof'], remove_focuswords = True)"
   ]
  },
  {
   "cell_type": "code",
   "execution_count": 14,
   "metadata": {},
   "outputs": [],
   "source": [
    "np.random.seed(42) \n",
    "#test_df.sample(10) \n",
    "#test_df.sample(10)"
   ]
  },
  {
   "cell_type": "markdown",
   "metadata": {},
   "source": [
    "### Explanations in Outer Contexts"
   ]
  },
  {
   "cell_type": "code",
   "execution_count": 15,
   "metadata": {},
   "outputs": [],
   "source": [
    "pd.set_option('display.max_rows', 300)\n",
    "pd.set_option('display.max_columns', 10)\n",
    "pd.set_option('display.max_colwidth', None)\n",
    "\n",
    "test_df = sentence_extract(explanation_df,[], contexts = ['outer'], remove_focuswords = True)"
   ]
  },
  {
   "cell_type": "code",
   "execution_count": 18,
   "metadata": {},
   "outputs": [
    {
     "data": {
      "text/html": [
       "<div>\n",
       "<style scoped>\n",
       "    .dataframe tbody tr th:only-of-type {\n",
       "        vertical-align: middle;\n",
       "    }\n",
       "\n",
       "    .dataframe tbody tr th {\n",
       "        vertical-align: top;\n",
       "    }\n",
       "\n",
       "    .dataframe thead th {\n",
       "        text-align: right;\n",
       "    }\n",
       "</style>\n",
       "<table border=\"1\" class=\"dataframe\">\n",
       "  <thead>\n",
       "    <tr style=\"text-align: right;\">\n",
       "      <th></th>\n",
       "      <th>id</th>\n",
       "      <th>mainmathcat</th>\n",
       "      <th>context</th>\n",
       "      <th>sentence</th>\n",
       "      <th>focuswords</th>\n",
       "    </tr>\n",
       "  </thead>\n",
       "  <tbody>\n",
       "    <tr>\n",
       "      <th>347</th>\n",
       "      <td>2009.12869</td>\n",
       "      <td>math.GT</td>\n",
       "      <td>outer</td>\n",
       "      <td>in subsection  we explain the topological meaning of the fundamental quandle of a link and describe its presentation.</td>\n",
       "      <td>explain</td>\n",
       "    </tr>\n",
       "    <tr>\n",
       "      <th>1631</th>\n",
       "      <td>2009.10457</td>\n",
       "      <td>math.DS</td>\n",
       "      <td>outer</td>\n",
       "      <td>before the construction we explain how to construct the desired diffeomorphism using the diffeomorphism .</td>\n",
       "      <td>explain</td>\n",
       "    </tr>\n",
       "    <tr>\n",
       "      <th>656</th>\n",
       "      <td>2009.02446</td>\n",
       "      <td>math.NT</td>\n",
       "      <td>outer</td>\n",
       "      <td>in fact, before this paper, there has not been one result\\nestablishing the transcendence of\\n\\nfor an arbitrary sequence with \\nfor any single value (as explained above, is the easy bound due to an immediate application of roth's theorem).</td>\n",
       "      <td>explain</td>\n",
       "    </tr>\n",
       "    <tr>\n",
       "      <th>1743</th>\n",
       "      <td>2009.11392</td>\n",
       "      <td>math.NA</td>\n",
       "      <td>outer</td>\n",
       "      <td>similarly, we suspect that in most cases, plain gn would be the preferred method for its simplicity and empirical stability, and our results explain why it should be stable most of the time.</td>\n",
       "      <td>explain</td>\n",
       "    </tr>\n",
       "    <tr>\n",
       "      <th>1101</th>\n",
       "      <td>2009.03209</td>\n",
       "      <td>math.AP</td>\n",
       "      <td>outer</td>\n",
       "      <td>in dimensionless form it reads,\\n\\nthe functions are determined based on experiments  and is the multivalued signum graph given by\\n \\na detailed explanation of the eph model (&lt;ref&gt;) is given later.</td>\n",
       "      <td>explanation</td>\n",
       "    </tr>\n",
       "    <tr>\n",
       "      <th>1811</th>\n",
       "      <td>2009.03526</td>\n",
       "      <td>math.CO</td>\n",
       "      <td>outer</td>\n",
       "      <td>we start with the robinson–schensted correspondence, proceed to an algebraic proof using up and down operators on young's lattice, and then explain how fomin's growth diagrams can be used to “bijectivize” the up-down proof, leading to a family of insertion algorithms that generalize robinson–schensted.</td>\n",
       "      <td>explain</td>\n",
       "    </tr>\n",
       "    <tr>\n",
       "      <th>1570</th>\n",
       "      <td>2009.10125</td>\n",
       "      <td>math.DG</td>\n",
       "      <td>outer</td>\n",
       "      <td>we shall also explain why we make these assumptions.</td>\n",
       "      <td>explain</td>\n",
       "    </tr>\n",
       "    <tr>\n",
       "      <th>1417</th>\n",
       "      <td>2009.12311</td>\n",
       "      <td>math.DG</td>\n",
       "      <td>outer</td>\n",
       "      <td>it is in fact the dual of in the sense of sasaki , which explains the notation.</td>\n",
       "      <td>explain</td>\n",
       "    </tr>\n",
       "    <tr>\n",
       "      <th>450</th>\n",
       "      <td>2009.10787</td>\n",
       "      <td>math.PR</td>\n",
       "      <td>outer</td>\n",
       "      <td>in this section we recall the analysis for the deep lower tail in the physics works ,\\nexplain why it is hard to make the argument mathematically rigorous and our solution.</td>\n",
       "      <td>explain</td>\n",
       "    </tr>\n",
       "    <tr>\n",
       "      <th>1783</th>\n",
       "      <td>2009.03546</td>\n",
       "      <td>math.OC</td>\n",
       "      <td>outer</td>\n",
       "      <td>as explained in the proof of theorem , the karush-kuhn-tucker (kkt) optimality conditions\\nare necessary and sufficient for an optimal solution, see e.g.</td>\n",
       "      <td>explain</td>\n",
       "    </tr>\n",
       "  </tbody>\n",
       "</table>\n",
       "</div>"
      ],
      "text/plain": [
       "              id mainmathcat context  \\\n",
       "347   2009.12869     math.GT   outer   \n",
       "1631  2009.10457     math.DS   outer   \n",
       "656   2009.02446     math.NT   outer   \n",
       "1743  2009.11392     math.NA   outer   \n",
       "1101  2009.03209     math.AP   outer   \n",
       "1811  2009.03526     math.CO   outer   \n",
       "1570  2009.10125     math.DG   outer   \n",
       "1417  2009.12311     math.DG   outer   \n",
       "450   2009.10787     math.PR   outer   \n",
       "1783  2009.03546     math.OC   outer   \n",
       "\n",
       "                                                                                                                                                                                                                                                                                                             sentence  \\\n",
       "347                                                                                                                                                                                             in subsection  we explain the topological meaning of the fundamental quandle of a link and describe its presentation.   \n",
       "1631                                                                                                                                                                                                        before the construction we explain how to construct the desired diffeomorphism using the diffeomorphism .   \n",
       "656                                                                  in fact, before this paper, there has not been one result\\nestablishing the transcendence of\\n\\nfor an arbitrary sequence with \\nfor any single value (as explained above, is the easy bound due to an immediate application of roth's theorem).   \n",
       "1743                                                                                                                   similarly, we suspect that in most cases, plain gn would be the preferred method for its simplicity and empirical stability, and our results explain why it should be stable most of the time.   \n",
       "1101                                                                                                           in dimensionless form it reads,\\n\\nthe functions are determined based on experiments  and is the multivalued signum graph given by\\n \\na detailed explanation of the eph model (<ref>) is given later.   \n",
       "1811  we start with the robinson–schensted correspondence, proceed to an algebraic proof using up and down operators on young's lattice, and then explain how fomin's growth diagrams can be used to “bijectivize” the up-down proof, leading to a family of insertion algorithms that generalize robinson–schensted.   \n",
       "1570                                                                                                                                                                                                                                                             we shall also explain why we make these assumptions.   \n",
       "1417                                                                                                                                                                                                                                  it is in fact the dual of in the sense of sasaki , which explains the notation.   \n",
       "450                                                                                                                                      in this section we recall the analysis for the deep lower tail in the physics works ,\\nexplain why it is hard to make the argument mathematically rigorous and our solution.   \n",
       "1783                                                                                                                                                        as explained in the proof of theorem , the karush-kuhn-tucker (kkt) optimality conditions\\nare necessary and sufficient for an optimal solution, see e.g.   \n",
       "\n",
       "       focuswords  \n",
       "347       explain  \n",
       "1631      explain  \n",
       "656       explain  \n",
       "1743      explain  \n",
       "1101  explanation  \n",
       "1811      explain  \n",
       "1570      explain  \n",
       "1417      explain  \n",
       "450       explain  \n",
       "1783      explain  "
      ]
     },
     "execution_count": 18,
     "metadata": {},
     "output_type": "execute_result"
    }
   ],
   "source": [
    "#np.random.seed(42) \n",
    "np.random.seed(24) \n",
    "\n",
    "test_df.sample(10)"
   ]
  }
 ],
 "metadata": {
  "kernelspec": {
   "display_name": "Python 3",
   "language": "python",
   "name": "python3"
  },
  "language_info": {
   "codemirror_mode": {
    "name": "ipython",
    "version": 3
   },
   "file_extension": ".py",
   "mimetype": "text/x-python",
   "name": "python",
   "nbconvert_exporter": "python",
   "pygments_lexer": "ipython3",
   "version": "3.6.8"
  }
 },
 "nbformat": 4,
 "nbformat_minor": 4
}
