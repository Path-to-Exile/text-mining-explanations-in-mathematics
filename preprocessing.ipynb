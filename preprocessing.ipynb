{
 "cells": [
  {
   "cell_type": "markdown",
   "metadata": {},
   "source": [
    "###### Last preprocessing step. Removes all non-relevant articles from our corpus. Removes non-relevant information from arxiv-full-database.\n",
    "###### Adds word count for each context to the data frame\n",
    "###### Saves the result in database-files"
   ]
  },
  {
   "cell_type": "code",
   "execution_count": 41,
   "metadata": {},
   "outputs": [],
   "source": [
    "import pandas as pd\n",
    "import time\n",
    "import nltk"
   ]
  },
  {
   "cell_type": "code",
   "execution_count": 42,
   "metadata": {},
   "outputs": [],
   "source": [
    "def flatten(list):\n",
    "    return \"\".join([item for sublist in list for item in sublist])\n",
    "path = '/Users/Svesketerning/Google-Drev/experiments/database-files'\n",
    "timestr = time.strftime(\"%Y%m%d-%H%M\")"
   ]
  },
  {
   "cell_type": "code",
   "execution_count": 43,
   "metadata": {},
   "outputs": [],
   "source": [
    "df_arxiv = pd.read_pickle(r'arxiv-full-database-20210123-0907.pickle') \n",
    "keep = ['title','abstract','authors_parsed','numpages',\n",
    "        'numauthors','categories_parsed','numcats','maincat',\n",
    "       'nummathcats','mainmathcat']\n",
    "df_arxiv = df_arxiv[keep] # Keep only relevant columns\n",
    "df_arxiv = df_arxiv.drop(df_arxiv[df_arxiv.maincat != df_arxiv.mainmathcat].index\n",
    "                         & df_arxiv[df_arxiv.maincat != 'cs.IT'].index\n",
    "                         & df_arxiv[df_arxiv.maincat != 'math-ph'].index\n",
    "                        ) # Remove articles without mainmathcat=maincat and cs.IT/math-ph\n",
    "df_contexts = pd.read_feather('arxiv-contexts.feather')\n",
    "contexts = [x for x in df_contexts.columns if x!='arxivid']\n",
    "for c in contexts:\n",
    "    df_contexts[c] = df_contexts[c].apply(flatten)\n",
    "df_contexts = df_contexts.set_index('arxivid')\n",
    "df_contexts.index.names = ['id'] # ArXiv id as index \n",
    "\n",
    "article_list = df_arxiv.index.tolist()\n",
    "df_contexts = df_contexts[df_contexts.index.isin(article_list)] # Drop rows if index not in df_arxiv\n",
    "# Outcome is all articles with maincat a mathematics category alongside contexts"
   ]
  },
  {
   "cell_type": "code",
   "execution_count": 44,
   "metadata": {},
   "outputs": [],
   "source": [
    "# word count for each context to the data frame for each article\n",
    "contextwordcount_df = [] # Counting words in each context per article\n",
    "for index in range(len(df_contexts.index)):\n",
    "    counts_article = []\n",
    "    for c in contexts:\n",
    "        count = len(nltk.word_tokenize(df_contexts[c][index]))\n",
    "        counts_article.append(count)\n",
    "    contextwordcount_df.append({'id':df_contexts.index[index], # Non functional as I list each context\n",
    "                                'outer': counts_article[0], 'theorem': counts_article[1], \n",
    "                                'meta': counts_article[2], 'proof': counts_article[3], \n",
    "                                'other': counts_article[4]})\n",
    "contextwordcount_df = pd.concat([pd.DataFrame(contextwordcount_df[i], index=['id']) for i in range(len(contextwordcount_df))]) \n",
    "contextwordcount_df = contextwordcount_df.set_index('id')\n",
    "# merge to df_arxiv\n",
    "df_arxiv = df_arxiv.merge(contextwordcount_df, left_index=True, right_index=True)"
   ]
  },
  {
   "cell_type": "code",
   "execution_count": 46,
   "metadata": {},
   "outputs": [],
   "source": [
    "df_arxiv = df_arxiv.reset_index()\n",
    "df_contexts = df_contexts.reset_index()\n",
    "df_contexts.to_feather(path+'/arxiv_contexts'+timestr+'.feather')\n",
    "df_arxiv.to_feather(path+'/arxiv_extended_database'+timestr+'.feather')"
   ]
  },
  {
   "cell_type": "code",
   "execution_count": null,
   "metadata": {},
   "outputs": [],
   "source": []
  }
 ],
 "metadata": {
  "kernelspec": {
   "display_name": "Python 3",
   "language": "python",
   "name": "python3"
  },
  "language_info": {
   "codemirror_mode": {
    "name": "ipython",
    "version": 3
   },
   "file_extension": ".py",
   "mimetype": "text/x-python",
   "name": "python",
   "nbconvert_exporter": "python",
   "pygments_lexer": "ipython3",
   "version": "3.6.8"
  }
 },
 "nbformat": 4,
 "nbformat_minor": 4
}
