{
 "cells": [
  {
   "cell_type": "markdown",
   "metadata": {},
   "source": [
    "##### Extraction of explain words. This will be the data which will be analysed in 'base experiments' and 'explanations in unusual places'"
   ]
  },
  {
   "cell_type": "code",
   "execution_count": 8,
   "metadata": {},
   "outputs": [],
   "source": [
    "import pandas as pd\n",
    "import nltk\n",
    "import glob\n",
    "import os\n",
    "import time\n",
    "from tqdm.notebook import tqdm\n",
    "path = '/Users/Svesketerning/Google-Drev/experiments/database-files'\n",
    "timestr = time.strftime(\"%Y%m%d-%H%M\")"
   ]
  },
  {
   "cell_type": "code",
   "execution_count": 27,
   "metadata": {},
   "outputs": [],
   "source": [
    "# Definining word_extract function - will be copied for other experiments.\n",
    "def word_extract(dataframe_context,focus_words):\n",
    "    result = []\n",
    "    contexts = [x for x in dataframe_context.columns]\n",
    "    for index in range(len(dataframe_context.index)):\n",
    "        for c in contexts:\n",
    "            sentences = nltk.sent_tokenize(dataframe_context[c][index])\n",
    "            for sent in sentences:\n",
    "                sent = sent.lower()\n",
    "                overlap = [x for x in focus_words if x in sent]\n",
    "                if len(overlap)>0:\n",
    "                    arc_id = dataframe_context['id'][index]\n",
    "                    result.append({'id':arc_id, # NOTE THAT YOU HAVE TO LOAD ARXIV DATABASE FILE AS df_arxiv!!\n",
    "                                   'mainmathcat': df_arxiv.loc[df_arxiv['id'] == arc_id]['mainmathcat'].item(),\n",
    "                                   'context': c, 'sentence': sent, 'focuswords': \",\".join(overlap)})\n",
    "    df = pd.concat([pd.DataFrame(result[i], index=['id']) for i in range(len(result))])\n",
    "    df = df.set_index('id')\n",
    "    return df \n",
    "\n",
    "def word_extract_ramos(dataframe_context,focus_words):\n",
    "    result = []\n",
    "    contexts = [x for x in dataframe_context.columns]\n",
    "    for index in tqdm(range(len(dataframe_context.index))):\n",
    "        for c in contexts:\n",
    "            sentences = nltk.sent_tokenize(dataframe_context[c][index])\n",
    "            for sent in sentences:\n",
    "                sent = sent.lower()\n",
    "                overlap = [x for x in focus_words if x in sent]\n",
    "                if len(overlap)>0:\n",
    "                    arc_id = dataframe_context['id'][index]\n",
    "                    result.append({'id':arc_id, # NOTE THAT YOU HAVE TO LOAD ARXIV DATABASE FILE AS df_arxiv!!\n",
    "                                   'mainmathcat': df_arxiv_ramos.loc[df_arxiv_ramos['id'] == arc_id]['mainmathcat'].item(),\n",
    "                                   'context': c, 'sentence': sent, 'focuswords': \",\".join(overlap)})\n",
    "    df = pd.concat([pd.DataFrame(result[i], index=['id']) for i in range(len(result))])\n",
    "    df = df.set_index('id')\n",
    "    return df "
   ]
  },
  {
   "cell_type": "code",
   "execution_count": 26,
   "metadata": {},
   "outputs": [
    {
     "data": {
      "text/plain": [
       "'math.IT'"
      ]
     },
     "execution_count": 26,
     "metadata": {},
     "output_type": "execute_result"
    }
   ],
   "source": [
    "df_arxiv_ramos.loc[df_arxiv_ramos['id'] == '0901.0015']['mainmathcat'].item()"
   ]
  },
  {
   "cell_type": "code",
   "execution_count": 20,
   "metadata": {},
   "outputs": [],
   "source": [
    "# Load latest context and ArXiv database file\n",
    "LatestContextFile = max(glob.iglob('/Users/Svesketerning/Google-Drev/experiments/database-files/arxiv_contexts*'),key=os.path.getctime)\n",
    "df_contexts = pd.read_feather(LatestContextFile)\n",
    "\n",
    "LatestDatabaseFile = max(glob.iglob('/Users/Svesketerning/Google-Drev/experiments/database-files/arxiv_extended_database*'),key=os.path.getctime)\n",
    "df_arxiv = pd.read_feather(LatestDatabaseFile)\n",
    "\n",
    "LatestRamosDatabaseFile = max(glob.iglob('/Users/Svesketerning/Google-Drev/experiments/database-files/ramos2009a_arxiv_extended_database*'),key=os.path.getctime)\n",
    "df_arxiv_ramos = pd.read_feather(LatestRamosDatabaseFile)\n",
    "\n",
    "explain_words = ['explanation','explain']"
   ]
  },
  {
   "cell_type": "code",
   "execution_count": 62,
   "metadata": {},
   "outputs": [],
   "source": [
    "explain_raw_df = word_extract(df_contexts,explain_words)\n",
    "explain_raw_df = explain_raw_df.reset_index()\n",
    "explain_raw_df.to_feather(path+'/explain_fullraw'+timestr+'.feather')"
   ]
  },
  {
   "cell_type": "markdown",
   "metadata": {},
   "source": [
    "#### Ramos word_df for comparison"
   ]
  },
  {
   "cell_type": "code",
   "execution_count": 28,
   "metadata": {},
   "outputs": [
    {
     "data": {
      "application/vnd.jupyter.widget-view+json": {
       "model_id": "cd276a797a98441d89da2994ec6bcc3a",
       "version_major": 2,
       "version_minor": 0
      },
      "text/plain": [
       "HBox(children=(FloatProgress(value=0.0, max=9686.0), HTML(value='')))"
      ]
     },
     "metadata": {},
     "output_type": "display_data"
    },
    {
     "name": "stdout",
     "output_type": "stream",
     "text": [
      "\n"
     ]
    }
   ],
   "source": [
    "LatestRamosFile = max(glob.iglob('/Users/Svesketerning/Google-Drev/experiments/database-files/ramos2009a_arxiv_contexts*'),key=os.path.getctime)\n",
    "df_ramos_contexts = pd.read_feather(LatestRamosFile)\n",
    "\n",
    "explain_ramos_raw_df = word_extract_ramos(df_ramos_contexts,explain_words)\n",
    "\n",
    "explain_ramos_raw_df.reset_index().to_feather(path+'/explain_ramos_fullraw'+timestr+'.feather')"
   ]
  },
  {
   "cell_type": "code",
   "execution_count": 30,
   "metadata": {},
   "outputs": [],
   "source": []
  },
  {
   "cell_type": "code",
   "execution_count": null,
   "metadata": {},
   "outputs": [],
   "source": []
  },
  {
   "cell_type": "code",
   "execution_count": 25,
   "metadata": {},
   "outputs": [],
   "source": []
  },
  {
   "cell_type": "code",
   "execution_count": 11,
   "metadata": {},
   "outputs": [],
   "source": [
    "explain_full_raw_df= word_extract2(df_ramos_contexts,explain_words)"
   ]
  },
  {
   "cell_type": "code",
   "execution_count": null,
   "metadata": {},
   "outputs": [],
   "source": []
  },
  {
   "cell_type": "code",
   "execution_count": null,
   "metadata": {},
   "outputs": [],
   "source": []
  },
  {
   "cell_type": "code",
   "execution_count": 43,
   "metadata": {},
   "outputs": [],
   "source": []
  },
  {
   "cell_type": "code",
   "execution_count": 44,
   "metadata": {},
   "outputs": [],
   "source": []
  },
  {
   "cell_type": "code",
   "execution_count": null,
   "metadata": {},
   "outputs": [],
   "source": []
  },
  {
   "cell_type": "code",
   "execution_count": null,
   "metadata": {},
   "outputs": [],
   "source": []
  }
 ],
 "metadata": {
  "kernelspec": {
   "display_name": "Python 3",
   "language": "python",
   "name": "python3"
  },
  "language_info": {
   "codemirror_mode": {
    "name": "ipython",
    "version": 3
   },
   "file_extension": ".py",
   "mimetype": "text/x-python",
   "name": "python",
   "nbconvert_exporter": "python",
   "pygments_lexer": "ipython3",
   "version": "3.6.8"
  }
 },
 "nbformat": 4,
 "nbformat_minor": 4
}
