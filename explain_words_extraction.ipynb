{
 "cells": [
  {
   "cell_type": "markdown",
   "metadata": {},
   "source": [
    "##### Extraction of explain words. This will be the data which will be analysed in 'base experiments' and 'explanations in unusual places'"
   ]
  },
  {
   "cell_type": "code",
   "execution_count": 5,
   "metadata": {},
   "outputs": [],
   "source": [
    "import pandas as pd\n",
    "import nltk\n",
    "import glob\n",
    "import os\n",
    "import time\n",
    "path = '/Users/Svesketerning/Google-Drev/experiments/database-files'\n",
    "timestr = time.strftime(\"%Y%m%d-%H%M\")"
   ]
  },
  {
   "cell_type": "code",
   "execution_count": 2,
   "metadata": {},
   "outputs": [],
   "source": [
    "# Definining word_extract function - will be copied for other experiments.\n",
    "def word_extract(dataframe_context,focus_words):\n",
    "    result = []\n",
    "    contexts = [x for x in dataframe_context.columns]\n",
    "    for index in range(len(dataframe_context.index)):\n",
    "        for c in contexts:\n",
    "            sentences = nltk.sent_tokenize(dataframe_context[c][index])\n",
    "            for sent in sentences:\n",
    "                sent = sent.lower()\n",
    "                overlap = [x for x in focus_words if x in sent]\n",
    "                if len(overlap)>0:\n",
    "                    arc_id = df_contexts['id'][index]\n",
    "                    result.append({'id':arc_id, # NOTE THAT YOU HAVE TO LOAD ARXIV DATABASE FILE AS df_arxiv!!\n",
    "                                   'mainmathcat': df_arxiv.loc[df_arxiv['id'] == arc_id]['mainmathcat'].item(),\n",
    "                                   'context': c, 'sentence': sent, 'focuswords': \",\".join(overlap)})\n",
    "    df = pd.concat([pd.DataFrame(result[i], index=['id']) for i in range(len(result))])\n",
    "    df = df.set_index('id')\n",
    "    return df "
   ]
  },
  {
   "cell_type": "code",
   "execution_count": 6,
   "metadata": {},
   "outputs": [],
   "source": [
    "# Load latest context and ArXiv database file\n",
    "LatestContextFile = max(glob.iglob('/Users/Svesketerning/Google-Drev/experiments/database-files/arxiv_contexts*'),key=os.path.getctime)\n",
    "df_contexts = pd.read_feather(LatestContextFile)\n",
    "\n",
    "LatestDatabaseFile = max(glob.iglob('/Users/Svesketerning/Google-Drev/experiments/database-files/arxiv_extended_database*'),key=os.path.getctime)\n",
    "df_arxiv = pd.read_feather(LatestDatabaseFile)\n",
    "explain_words = ['explanation','explain']"
   ]
  },
  {
   "cell_type": "code",
   "execution_count": 48,
   "metadata": {},
   "outputs": [],
   "source": [
    "explain_raw_df = word_extract(df_contexts,explain_words)\n",
    "explain_raw_df = explain_raw_df.reset_index()\n",
    "explain_raw_df.to_feather(path+'/explain_fullraw'+timestr+'.feather')"
   ]
  },
  {
   "cell_type": "code",
   "execution_count": null,
   "metadata": {},
   "outputs": [],
   "source": []
  }
 ],
 "metadata": {
  "kernelspec": {
   "display_name": "Python 3",
   "language": "python",
   "name": "python3"
  },
  "language_info": {
   "codemirror_mode": {
    "name": "ipython",
    "version": 3
   },
   "file_extension": ".py",
   "mimetype": "text/x-python",
   "name": "python",
   "nbconvert_exporter": "python",
   "pygments_lexer": "ipython3",
   "version": "3.6.8"
  }
 },
 "nbformat": 4,
 "nbformat_minor": 4
}
